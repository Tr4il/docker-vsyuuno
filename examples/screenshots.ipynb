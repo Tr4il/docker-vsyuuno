{
 "cells": [
  {
   "cell_type": "code",
   "execution_count": 1,
   "id": "59cd1807",
   "metadata": {},
   "outputs": [],
   "source": [
    "%load_ext yuuno\n",
    "import awsmfunc as awf"
   ]
  },
  {
   "cell_type": "code",
   "execution_count": 30,
   "id": "5ee2253b",
   "metadata": {},
   "outputs": [
    {
     "name": "stdout",
     "output_type": "stream",
     "text": [
      "ScreenGen: Writing file: 08SKiZOiD.png, frame: 164500"
     ]
    },
    {
     "data": {
      "application/vnd.jupyter.widget-view+json": {
       "model_id": "b7e3304afd154b739a4aef63e23ab4ea",
       "version_major": 2,
       "version_minor": 0
      },
      "text/plain": [
       "Preview(clip=VideoOutputTuple(clip=<vapoursynth.VideoNode object at 0x7fd5b55fb940>, alpha=None, alt_output=0)…"
      ]
     },
     "metadata": {},
     "output_type": "display_data"
    }
   ],
   "source": [
    "%%vspreview --reset-core --isolate-variables\n",
    "flux = core.ffms2.Source(\"Bullet.Train.2022.1080p.AMZN.WEB-DL.DDP5.1.H.264-FLUX.mkv\")\n",
    "ift = core.ffms2.Source(\"Bullet.Train.2022.1080p.WEBRip.DDP5.1.Atmos.x264-iFT.mkv\")\n",
    "skiz = core.ffms2.Source(\"Bullet.Train.2022.1080p.MA.WEB-DL.DDP5.1.Atmos.H.264-SKiZOiD.mkv\")\n",
    "mteam = core.ffms2.Source(\"Bullet.Train.2022.BluRay.1080p.DTS-HD.MA.5.1.x264-MTeam.mkv\")\n",
    "\n",
    "\n",
    "#skiz = core.std.Crop(skiz, top=138, bottom=138)\n",
    "mteam = core.std.AddBorders(mteam, top=138, bottom=138)\n",
    "\n",
    "flux = awf.FrameInfo(flux, \"FLUX\")\n",
    "ift = awf.FrameInfo(ift, \"iFT\")\n",
    "skiz = awf.FrameInfo(skiz, \"SKiZOiD\")\n",
    "mteam = awf.FrameInfo(mteam, \"MTeam\")\n",
    "\n",
    "\n",
    "\n",
    "skiz.set_output()\n",
    "\n",
    "awf.ScreenGen(skiz, \"Screenshots\", \"SKiZOiD\")\n",
    "\n"
   ]
  },
  {
   "cell_type": "code",
   "execution_count": null,
   "id": "205de177-1a04-43dc-bd9c-64627fe4d630",
   "metadata": {},
   "outputs": [],
   "source": []
  }
 ],
 "metadata": {
  "kernelspec": {
   "display_name": "Python 3 (ipykernel)",
   "language": "python",
   "name": "python3"
  },
  "language_info": {
   "codemirror_mode": {
    "name": "ipython",
    "version": 3
   },
   "file_extension": ".py",
   "mimetype": "text/x-python",
   "name": "python",
   "nbconvert_exporter": "python",
   "pygments_lexer": "ipython3",
   "version": "3.10.7"
  }
 },
 "nbformat": 4,
 "nbformat_minor": 5
}
