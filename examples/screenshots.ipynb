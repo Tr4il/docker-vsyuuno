{
 "cells": [
  {
   "cell_type": "code",
   "execution_count": 1,
   "id": "59cd1807",
   "metadata": {},
   "outputs": [],
   "source": [
    "%load_ext yuuno\n",
    "import awsmfunc as awf"
   ]
  },
  {
   "cell_type": "code",
   "execution_count": null,
   "id": "5ee2253b",
   "metadata": {},
   "outputs": [],
   "source": [
    "%%vspreview --reset-core --isolate-variables\n",
    "flux = core.ffms2.Source(\"Bullet.Train.2022.1080p.AMZN.WEB-DL.DDP5.1.H.264-FLUX.mkv\")\n",
    "ift = core.ffms2.Source(\"Bullet.Train.2022.1080p.WEBRip.DDP5.1.Atmos.x264-iFT.mkv\")\n",
    "skiz = core.ffms2.Source(\"Bullet.Train.2022.1080p.MA.WEB-DL.DDP5.1.Atmos.H.264-SKiZOiD.mkv\")\n",
    "mteam = core.ffms2.Source(\"Bullet.Train.2022.BluRay.1080p.DTS-HD.MA.5.1.x264-MTeam.mkv\")\n",
    "\n",
    "# Some prefer using core.lsmas.LWLibavSource() instead of core.ffms2.Source():\n",
    "# flux = core.lsmas.LWLibavSource(\"Bullet.Train.2022.1080p.AMZN.WEB-DL.DDP5.1.H.264-FLUX.mkv\")\n",
    "\n",
    "# Adjust black borders if necessary:\n",
    "mteam = core.std.AddBorders(mteam, top=138, bottom=138)\n",
    "\n",
    "# Trim frames if framecount doesn't match, in this case 5 frames removed from the beginning:\n",
    "mteam = mteam.std.Trim(5,$TOTALFRAMECOUNT)\n",
    "\n",
    "# Adjust difference in resolution to match other edition, in this case match mteam to flux:\n",
    "mteam = mteam.resize.Spline36(flux.width, flux.height, dither_type=\"error_diffusion\")\n",
    "\n",
    "flux = awf.FrameInfo(flux, \"FLUX\")\n",
    "ift = awf.FrameInfo(ift, \"iFT\")\n",
    "skiz = awf.FrameInfo(skiz, \"SKiZOiD\")\n",
    "mteam = awf.FrameInfo(mteam, \"MTeam\")\n",
    "\n",
    "awf.ScreenGen(flux, \"Screenshots\", \"FLUX\")\n",
    "awf.ScreenGen(ift, \"Screenshots\", \"iFT\")\n",
    "awf.ScreenGen(skiz, \"Screenshots\", \"SKiZOiD\")\n",
    "awf.ScreenGen(mteam, \"Screenshots\", \"MTeam\")"
   ]
  }
 ],
 "metadata": {
  "kernelspec": {
   "display_name": "Python 3 (ipykernel)",
   "language": "python",
   "name": "python3"
  },
  "language_info": {
   "codemirror_mode": {
    "name": "ipython",
    "version": 3
   },
   "file_extension": ".py",
   "mimetype": "text/x-python",
   "name": "python",
   "nbconvert_exporter": "python",
   "pygments_lexer": "ipython3",
   "version": "3.10.7"
  }
 },
 "nbformat": 4,
 "nbformat_minor": 5
}
