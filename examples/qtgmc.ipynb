{
 "cells": [
  {
   "cell_type": "code",
   "execution_count": 1,
   "id": "87309e4e-dedc-41d2-b895-66f2e6f02f73",
   "metadata": {},
   "outputs": [],
   "source": [
    "%load_ext yuuno\n",
    "import havsfunc as haf\n",
    "import d2vsource as d2v\n",
    "# core.std.LoadPlugin(path=r'/jupyter/d2vsource/.libs/libd2vsource.so')\n",
    "import awsmfunc as awf"
   ]
  },
  {
   "cell_type": "code",
   "execution_count": 10,
   "id": "61029ea1-66c5-4ddd-add6-77c3cb671273",
   "metadata": {},
   "outputs": [
    {
     "data": {
      "application/vnd.jupyter.widget-view+json": {
       "model_id": "8920cdd9ac7847a6a541b0990e82a339",
       "version_major": 2,
       "version_minor": 0
      },
      "text/plain": [
       "Preview(clip=VideoOutputTuple(clip=<vapoursynth.VideoNode object at 0x7fca6bd76740>, alpha=None, alt_output=0)…"
      ]
     },
     "metadata": {},
     "output_type": "display_data"
    }
   ],
   "source": [
    "%%vspreview --reset-core --isolate-variables\n",
    "enc1 = core.d2v.Source(input=\"**$INPUT.d2v**\")\n",
    "\n",
    "enc1 = enc1.std.Crop(top=0, bottom=0, left=6, right=0)\n",
    "enc1 = haf.QTGMC(enc1, Preset='Placebo', TFF=True, NoiseProcess=0, SourceMatch=3, FPSDivisor=2, MatchEnhance=0.75)\n",
    "enc1 = core.resize.Spline36(enc1, 720, 540)\n",
    "\n",
    "\n",
    "enc1.set_output()"
   ]
  },
  {
   "cell_type": "code",
   "execution_count": 12,
   "id": "f4f8ddd5-e741-4855-bcda-d48fd723ee35",
   "metadata": {},
   "outputs": [
    {
     "data": {
      "application/vnd.jupyter.widget-view+json": {
       "model_id": "af63dfe0d0464023b06b1c829071ba23",
       "version_major": 2,
       "version_minor": 0
      },
      "text/plain": [
       "EncodeWidget(commandline='x264 --demuxer y4m --preset slower --tune film --crf 17 --level 41 --deblock -3:-3 -…"
      ]
     },
     "metadata": {},
     "output_type": "display_data"
    }
   ],
   "source": [
    "%%vspipe --y4m | x264 --demuxer y4m --preset slower --tune film --crf 17 --level 41 --deblock -3:-3 --qcomp 0.60 --merange 32 --no-dct-decimate -o /mnt/unionfs/downloads/nzbs/sabnzbd/complete/randomdl/kameleon/kameleon1/enc1.mkv -\n",
    "\n",
    "enc1 = core.d2v.Source(input=\"**$INPUT.d2v**\")\n",
    "\n",
    "enc1 = enc1.std.Crop(top=0, bottom=0, left=6, right=0)\n",
    "enc1 = haf.QTGMC(enc1, Preset='Placebo', TFF=True, NoiseProcess=0, SourceMatch=3, FPSDivisor=2, MatchEnhance=0.75)\n",
    "enc1 = core.resize.Spline36(enc1, 720, 540)\n",
    "\n",
    "enc1.set_output()"
   ]
  },
  {
   "cell_type": "code",
   "execution_count": null,
   "id": "a4817a39-8969-4102-bf96-51098b641a10",
   "metadata": {},
   "outputs": [],
   "source": []
  }
 ],
 "metadata": {
  "kernelspec": {
   "display_name": "Python 3 (ipykernel)",
   "language": "python",
   "name": "python3"
  },
  "language_info": {
   "codemirror_mode": {
    "name": "ipython",
    "version": 3
   },
   "file_extension": ".py",
   "mimetype": "text/x-python",
   "name": "python",
   "nbconvert_exporter": "python",
   "pygments_lexer": "ipython3",
   "version": "3.10.7"
  }
 },
 "nbformat": 4,
 "nbformat_minor": 5
}
