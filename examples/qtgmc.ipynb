{
 "cells": [
  {
   "cell_type": "code",
   "execution_count": 1,
   "id": "87309e4e-dedc-41d2-b895-66f2e6f02f73",
   "metadata": {},
   "outputs": [],
   "source": [
    "%load_ext yuuno\n",
    "import havsfunc as haf\n",
    "import d2vsource as d2v\n",
    "import awsmfunc as awf"
   ]
  },
  {
   "cell_type": "code",
   "execution_count": null,
   "id": "61029ea1-66c5-4ddd-add6-77c3cb671273",
   "metadata": {},
   "outputs": [],
   "source": [
    "%%vspreview --reset-core --isolate-variables\n",
    "\n",
    "\n",
    "## d2vwitch your DVD VOB to get d2v source file -->\n",
    "enc1 = core.d2v.Source(input=\"**$INPUT.d2v**\")\n",
    "\n",
    "enc1 = enc1.std.Crop(top=0, bottom=0, left=6, right=0)\n",
    "enc1 = haf.QTGMC(enc1, Preset='Placebo', TFF=True, NoiseProcess=0, SourceMatch=3, FPSDivisor=2, MatchEnhance=0.75)\n",
    "enc1 = core.resize.Spline36(enc1, 720, 540)\n",
    "\n",
    "\n",
    "enc1.set_output()"
   ]
  },
  {
   "cell_type": "code",
   "execution_count": null,
   "id": "f4f8ddd5-e741-4855-bcda-d48fd723ee35",
   "metadata": {},
   "outputs": [],
   "source": [
    "%%vspipe --y4m | x264 --demuxer y4m --preset slower --tune film --crf 17 --level 41 --deblock -3:-3 --qcomp 0.60 --merange 32 --no-dct-decimate -o enc1.mkv -\n",
    "\n",
    "enc1 = core.d2v.Source(input=\"**$INPUT.d2v**\")\n",
    "\n",
    "enc1 = enc1.std.Crop(top=0, bottom=0, left=6, right=0)\n",
    "enc1 = haf.QTGMC(enc1, Preset='Placebo', TFF=True, NoiseProcess=0, SourceMatch=3, FPSDivisor=2, MatchEnhance=0.75)\n",
    "enc1 = core.resize.Spline36(enc1, 720, 540)\n",
    "\n",
    "enc1.set_output()"
   ]
  },
  {
   "cell_type": "code",
   "execution_count": null,
   "id": "a4817a39-8969-4102-bf96-51098b641a10",
   "metadata": {},
   "outputs": [],
   "source": []
  }
 ],
 "metadata": {
  "kernelspec": {
   "display_name": "Python 3 (ipykernel)",
   "language": "python",
   "name": "python3"
  },
  "language_info": {
   "codemirror_mode": {
    "name": "ipython",
    "version": 3
   },
   "file_extension": ".py",
   "mimetype": "text/x-python",
   "name": "python",
   "nbconvert_exporter": "python",
   "pygments_lexer": "ipython3",
   "version": "3.10.7"
  }
 },
 "nbformat": 4,
 "nbformat_minor": 5
}
